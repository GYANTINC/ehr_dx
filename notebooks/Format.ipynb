{
 "cells": [
  {
   "cell_type": "code",
   "execution_count": 305,
   "metadata": {},
   "outputs": [],
   "source": [
    "# %load ~/.ipython/standard_imports.py\n",
    "import os\n",
    "import sys\n",
    "import logging\n",
    "import itertools\n",
    "\n",
    "logging.basicConfig(level=logging.INFO)\n",
    "import tqdm\n",
    "import pandas as pd\n",
    "import numpy as np\n",
    "import matplotlib.pyplot as plt\n",
    "import seaborn as sns\n",
    "import sklearn.preprocessing\n",
    "\n",
    "import isajosep_util\n",
    "import isajosep_util.data_frame_plotter"
   ]
  },
  {
   "cell_type": "code",
   "execution_count": 5,
   "metadata": {},
   "outputs": [],
   "source": [
    "pd.set_option('display.max_rows', 500)\n",
    "pd.set_option('display.max_columns', 500)\n",
    "pd.set_option('display.width', 1000)\n"
   ]
  },
  {
   "cell_type": "markdown",
   "metadata": {},
   "source": [
    "Attached CSV file contains a number of medical cases (extracted from EHRs). Each entry consists of:\n",
    "\n",
    "- one more more “present” symptoms (symptoms that patient had at the time of visit). For example `s_0136` is GYANT code for “earache”.\n",
    "- one more “absent” symptoms (symptoms that patient did not have). Keep in mind that there may other potential symptoms the patient was never asked about, which are neither “present” nor “absent”\n",
    "- Age, Sex (1=Male), and Month of visit (which may be helpful, e.g. some conditions are gender-specific, some are seasonal)\n",
    "- Diagnosis (“DX”) the patient was diagnosed with (using Gyant condition codes)\n"
   ]
  },
  {
   "cell_type": "markdown",
   "metadata": {
    "heading_collapsed": true
   },
   "source": [
    "# Load"
   ]
  },
  {
   "cell_type": "code",
   "execution_count": 10,
   "metadata": {
    "hidden": true
   },
   "outputs": [],
   "source": [
    "df = pd.read_csv('/Users/ijoseph/Code/Data/Gyant/data_challenge.csv', index_col=0)"
   ]
  },
  {
   "cell_type": "markdown",
   "metadata": {
    "heading_collapsed": true
   },
   "source": [
    "# Cleaning"
   ]
  },
  {
   "cell_type": "code",
   "execution_count": 12,
   "metadata": {
    "hidden": true
   },
   "outputs": [
    {
     "data": {
      "text/html": [
       "<div>\n",
       "<style scoped>\n",
       "    .dataframe tbody tr th:only-of-type {\n",
       "        vertical-align: middle;\n",
       "    }\n",
       "\n",
       "    .dataframe tbody tr th {\n",
       "        vertical-align: top;\n",
       "    }\n",
       "\n",
       "    .dataframe thead th {\n",
       "        text-align: right;\n",
       "    }\n",
       "</style>\n",
       "<table border=\"1\" class=\"dataframe\">\n",
       "  <thead>\n",
       "    <tr style=\"text-align: right;\">\n",
       "      <th></th>\n",
       "      <th>DX</th>\n",
       "      <th>AGE</th>\n",
       "      <th>MONTH</th>\n",
       "      <th>SEX</th>\n",
       "      <th>Absent</th>\n",
       "      <th>Present</th>\n",
       "    </tr>\n",
       "  </thead>\n",
       "  <tbody>\n",
       "    <tr>\n",
       "      <th>59908</th>\n",
       "      <td>c_0497</td>\n",
       "      <td>37.0</td>\n",
       "      <td>8</td>\n",
       "      <td>0</td>\n",
       "      <td>s_0242, s_0865, s_0346, s_0327</td>\n",
       "      <td>s_1324, s_1547, s_0496, s_1316, s_0847</td>\n",
       "    </tr>\n",
       "    <tr>\n",
       "      <th>8497</th>\n",
       "      <td>c_0133</td>\n",
       "      <td>19.0</td>\n",
       "      <td>8</td>\n",
       "      <td>0</td>\n",
       "      <td>NaN</td>\n",
       "      <td>s_0242, s_0824, s_1266, s_2697</td>\n",
       "    </tr>\n",
       "    <tr>\n",
       "      <th>62265</th>\n",
       "      <td>c_0608</td>\n",
       "      <td>63.0</td>\n",
       "      <td>1</td>\n",
       "      <td>1</td>\n",
       "      <td>s_0553, s_1213, s_1611, s_0242, s_2738, s_0084...</td>\n",
       "      <td>s_0445, s_2282</td>\n",
       "    </tr>\n",
       "    <tr>\n",
       "      <th>66587</th>\n",
       "      <td>c_0273</td>\n",
       "      <td>36.0</td>\n",
       "      <td>7</td>\n",
       "      <td>0</td>\n",
       "      <td>s_0070, s_0553, s_0078, s_0084, s_2563, s_0022...</td>\n",
       "      <td>NaN</td>\n",
       "    </tr>\n",
       "    <tr>\n",
       "      <th>27272</th>\n",
       "      <td>c_0145</td>\n",
       "      <td>4.0</td>\n",
       "      <td>2</td>\n",
       "      <td>0</td>\n",
       "      <td>s_0106</td>\n",
       "      <td>s_0136, s_0242, s_0309, s_0826, s_0180</td>\n",
       "    </tr>\n",
       "  </tbody>\n",
       "</table>\n",
       "</div>"
      ],
      "text/plain": [
       "           DX   AGE  MONTH  SEX                                             Absent                                 Present\n",
       "59908  c_0497  37.0      8    0                     s_0242, s_0865, s_0346, s_0327  s_1324, s_1547, s_0496, s_1316, s_0847\n",
       "8497   c_0133  19.0      8    0                                                NaN          s_0242, s_0824, s_1266, s_2697\n",
       "62265  c_0608  63.0      1    1  s_0553, s_1213, s_1611, s_0242, s_2738, s_0084...                          s_0445, s_2282\n",
       "66587  c_0273  36.0      7    0  s_0070, s_0553, s_0078, s_0084, s_2563, s_0022...                                     NaN\n",
       "27272  c_0145   4.0      2    0                                             s_0106  s_0136, s_0242, s_0309, s_0826, s_0180"
      ]
     },
     "execution_count": 12,
     "metadata": {},
     "output_type": "execute_result"
    }
   ],
   "source": [
    "df.sample(5)"
   ]
  },
  {
   "cell_type": "code",
   "execution_count": 13,
   "metadata": {
    "hidden": true
   },
   "outputs": [
    {
     "data": {
      "text/plain": [
       "(71662, 6)"
      ]
     },
     "execution_count": 13,
     "metadata": {},
     "output_type": "execute_result"
    }
   ],
   "source": [
    "df.shape"
   ]
  },
  {
   "cell_type": "code",
   "execution_count": 14,
   "metadata": {
    "hidden": true
   },
   "outputs": [
    {
     "data": {
      "text/html": [
       "<div>\n",
       "<style scoped>\n",
       "    .dataframe tbody tr th:only-of-type {\n",
       "        vertical-align: middle;\n",
       "    }\n",
       "\n",
       "    .dataframe tbody tr th {\n",
       "        vertical-align: top;\n",
       "    }\n",
       "\n",
       "    .dataframe thead th {\n",
       "        text-align: right;\n",
       "    }\n",
       "</style>\n",
       "<table border=\"1\" class=\"dataframe\">\n",
       "  <thead>\n",
       "    <tr style=\"text-align: right;\">\n",
       "      <th></th>\n",
       "      <th>AGE</th>\n",
       "      <th>MONTH</th>\n",
       "      <th>SEX</th>\n",
       "    </tr>\n",
       "  </thead>\n",
       "  <tbody>\n",
       "    <tr>\n",
       "      <th>count</th>\n",
       "      <td>71662.000000</td>\n",
       "      <td>71662.000000</td>\n",
       "      <td>71662.000000</td>\n",
       "    </tr>\n",
       "    <tr>\n",
       "      <th>mean</th>\n",
       "      <td>32.297787</td>\n",
       "      <td>6.197357</td>\n",
       "      <td>0.407538</td>\n",
       "    </tr>\n",
       "    <tr>\n",
       "      <th>std</th>\n",
       "      <td>20.104694</td>\n",
       "      <td>3.531117</td>\n",
       "      <td>0.491380</td>\n",
       "    </tr>\n",
       "    <tr>\n",
       "      <th>min</th>\n",
       "      <td>-3.000000</td>\n",
       "      <td>1.000000</td>\n",
       "      <td>0.000000</td>\n",
       "    </tr>\n",
       "    <tr>\n",
       "      <th>25%</th>\n",
       "      <td>19.000000</td>\n",
       "      <td>3.000000</td>\n",
       "      <td>0.000000</td>\n",
       "    </tr>\n",
       "    <tr>\n",
       "      <th>50%</th>\n",
       "      <td>32.000000</td>\n",
       "      <td>6.000000</td>\n",
       "      <td>0.000000</td>\n",
       "    </tr>\n",
       "    <tr>\n",
       "      <th>75%</th>\n",
       "      <td>45.000000</td>\n",
       "      <td>9.000000</td>\n",
       "      <td>1.000000</td>\n",
       "    </tr>\n",
       "    <tr>\n",
       "      <th>max</th>\n",
       "      <td>161.000000</td>\n",
       "      <td>12.000000</td>\n",
       "      <td>1.000000</td>\n",
       "    </tr>\n",
       "  </tbody>\n",
       "</table>\n",
       "</div>"
      ],
      "text/plain": [
       "                AGE         MONTH           SEX\n",
       "count  71662.000000  71662.000000  71662.000000\n",
       "mean      32.297787      6.197357      0.407538\n",
       "std       20.104694      3.531117      0.491380\n",
       "min       -3.000000      1.000000      0.000000\n",
       "25%       19.000000      3.000000      0.000000\n",
       "50%       32.000000      6.000000      0.000000\n",
       "75%       45.000000      9.000000      1.000000\n",
       "max      161.000000     12.000000      1.000000"
      ]
     },
     "execution_count": 14,
     "metadata": {},
     "output_type": "execute_result"
    }
   ],
   "source": [
    "df.describe()"
   ]
  },
  {
   "cell_type": "markdown",
   "metadata": {
    "hidden": true
   },
   "source": [
    "Hm, mostly reasonable except for some impossible values for `AGE`."
   ]
  },
  {
   "cell_type": "markdown",
   "metadata": {
    "hidden": true
   },
   "source": [
    "## `AGE` cleaning"
   ]
  },
  {
   "cell_type": "code",
   "execution_count": 16,
   "metadata": {
    "hidden": true
   },
   "outputs": [
    {
     "data": {
      "text/html": [
       "<div>\n",
       "<style scoped>\n",
       "    .dataframe tbody tr th:only-of-type {\n",
       "        vertical-align: middle;\n",
       "    }\n",
       "\n",
       "    .dataframe tbody tr th {\n",
       "        vertical-align: top;\n",
       "    }\n",
       "\n",
       "    .dataframe thead th {\n",
       "        text-align: right;\n",
       "    }\n",
       "</style>\n",
       "<table border=\"1\" class=\"dataframe\">\n",
       "  <thead>\n",
       "    <tr style=\"text-align: right;\">\n",
       "      <th></th>\n",
       "      <th>DX</th>\n",
       "      <th>AGE</th>\n",
       "      <th>MONTH</th>\n",
       "      <th>SEX</th>\n",
       "      <th>Absent</th>\n",
       "      <th>Present</th>\n",
       "    </tr>\n",
       "  </thead>\n",
       "  <tbody>\n",
       "    <tr>\n",
       "      <th>1186</th>\n",
       "      <td>c_0273</td>\n",
       "      <td>102.0</td>\n",
       "      <td>8</td>\n",
       "      <td>0</td>\n",
       "      <td>s_0070, s_0106, s_0039, s_0346, s_0519, s_0002...</td>\n",
       "      <td>s_0578, s_0120, s_0865, s_2563</td>\n",
       "    </tr>\n",
       "    <tr>\n",
       "      <th>24878</th>\n",
       "      <td>c_0497</td>\n",
       "      <td>159.0</td>\n",
       "      <td>12</td>\n",
       "      <td>1</td>\n",
       "      <td>s_1298</td>\n",
       "      <td>s_0210, s_1317, s_2194, s_2387, s_1316</td>\n",
       "    </tr>\n",
       "    <tr>\n",
       "      <th>24893</th>\n",
       "      <td>c_0036</td>\n",
       "      <td>101.0</td>\n",
       "      <td>7</td>\n",
       "      <td>0</td>\n",
       "      <td>s_0070, s_1047, s_0519, s_0078, s_0022, s_0062</td>\n",
       "      <td>NaN</td>\n",
       "    </tr>\n",
       "    <tr>\n",
       "      <th>44092</th>\n",
       "      <td>c_0720</td>\n",
       "      <td>161.0</td>\n",
       "      <td>1</td>\n",
       "      <td>0</td>\n",
       "      <td>s_0327</td>\n",
       "      <td>s_1216</td>\n",
       "    </tr>\n",
       "    <tr>\n",
       "      <th>47754</th>\n",
       "      <td>c_0608</td>\n",
       "      <td>102.0</td>\n",
       "      <td>4</td>\n",
       "      <td>0</td>\n",
       "      <td>s_0400, s_0553, s_0826, s_0180</td>\n",
       "      <td>s_0022, s_2253, s_1030, s_0901, s_0460</td>\n",
       "    </tr>\n",
       "    <tr>\n",
       "      <th>57856</th>\n",
       "      <td>c_0273</td>\n",
       "      <td>102.0</td>\n",
       "      <td>1</td>\n",
       "      <td>0</td>\n",
       "      <td>s_0070, s_0864, s_0542, s_0039, s_0078</td>\n",
       "      <td>s_0578, s_0647, s_2738, s_1266</td>\n",
       "    </tr>\n",
       "  </tbody>\n",
       "</table>\n",
       "</div>"
      ],
      "text/plain": [
       "           DX    AGE  MONTH  SEX                                             Absent                                 Present\n",
       "1186   c_0273  102.0      8    0  s_0070, s_0106, s_0039, s_0346, s_0519, s_0002...          s_0578, s_0120, s_0865, s_2563\n",
       "24878  c_0497  159.0     12    1                                             s_1298  s_0210, s_1317, s_2194, s_2387, s_1316\n",
       "24893  c_0036  101.0      7    0     s_0070, s_1047, s_0519, s_0078, s_0022, s_0062                                     NaN\n",
       "44092  c_0720  161.0      1    0                                             s_0327                                  s_1216\n",
       "47754  c_0608  102.0      4    0                     s_0400, s_0553, s_0826, s_0180  s_0022, s_2253, s_1030, s_0901, s_0460\n",
       "57856  c_0273  102.0      1    0             s_0070, s_0864, s_0542, s_0039, s_0078          s_0578, s_0647, s_2738, s_1266"
      ]
     },
     "execution_count": 16,
     "metadata": {},
     "output_type": "execute_result"
    }
   ],
   "source": [
    "df.query(\"AGE > 100\")"
   ]
  },
  {
   "cell_type": "code",
   "execution_count": 18,
   "metadata": {
    "hidden": true
   },
   "outputs": [
    {
     "data": {
      "text/html": [
       "<div>\n",
       "<style scoped>\n",
       "    .dataframe tbody tr th:only-of-type {\n",
       "        vertical-align: middle;\n",
       "    }\n",
       "\n",
       "    .dataframe tbody tr th {\n",
       "        vertical-align: top;\n",
       "    }\n",
       "\n",
       "    .dataframe thead th {\n",
       "        text-align: right;\n",
       "    }\n",
       "</style>\n",
       "<table border=\"1\" class=\"dataframe\">\n",
       "  <thead>\n",
       "    <tr style=\"text-align: right;\">\n",
       "      <th></th>\n",
       "      <th>DX</th>\n",
       "      <th>AGE</th>\n",
       "      <th>MONTH</th>\n",
       "      <th>SEX</th>\n",
       "      <th>Absent</th>\n",
       "      <th>Present</th>\n",
       "    </tr>\n",
       "  </thead>\n",
       "  <tbody>\n",
       "    <tr>\n",
       "      <th>14105</th>\n",
       "      <td>c_0273</td>\n",
       "      <td>-3.0</td>\n",
       "      <td>8</td>\n",
       "      <td>0</td>\n",
       "      <td>s_2738, s_2282</td>\n",
       "      <td>s_2204, s_0578, s_0542, s_2563, s_1266</td>\n",
       "    </tr>\n",
       "  </tbody>\n",
       "</table>\n",
       "</div>"
      ],
      "text/plain": [
       "           DX  AGE  MONTH  SEX          Absent                                 Present\n",
       "14105  c_0273 -3.0      8    0  s_2738, s_2282  s_2204, s_0578, s_0542, s_2563, s_1266"
      ]
     },
     "execution_count": 18,
     "metadata": {},
     "output_type": "execute_result"
    }
   ],
   "source": [
    "df.query(\"AGE < 0\")"
   ]
  },
  {
   "cell_type": "markdown",
   "metadata": {
    "hidden": true
   },
   "source": [
    "Okay anything over 102.0 seems unlikely, and < 0 impossible. Want to assess whether missingness is correlated with anything else, rather than merely dropping these off the bat so as to not induce bias from dropping. "
   ]
  },
  {
   "cell_type": "code",
   "execution_count": 20,
   "metadata": {
    "hidden": true
   },
   "outputs": [
    {
     "data": {
      "text/html": [
       "<div>\n",
       "<style scoped>\n",
       "    .dataframe tbody tr th:only-of-type {\n",
       "        vertical-align: middle;\n",
       "    }\n",
       "\n",
       "    .dataframe tbody tr th {\n",
       "        vertical-align: top;\n",
       "    }\n",
       "\n",
       "    .dataframe thead th {\n",
       "        text-align: right;\n",
       "    }\n",
       "</style>\n",
       "<table border=\"1\" class=\"dataframe\">\n",
       "  <thead>\n",
       "    <tr style=\"text-align: right;\">\n",
       "      <th></th>\n",
       "      <th>DX</th>\n",
       "      <th>AGE</th>\n",
       "      <th>MONTH</th>\n",
       "      <th>SEX</th>\n",
       "      <th>Absent</th>\n",
       "      <th>Present</th>\n",
       "    </tr>\n",
       "  </thead>\n",
       "  <tbody>\n",
       "    <tr>\n",
       "      <th>14105</th>\n",
       "      <td>c_0273</td>\n",
       "      <td>-3.0</td>\n",
       "      <td>8</td>\n",
       "      <td>0</td>\n",
       "      <td>s_2738, s_2282</td>\n",
       "      <td>s_2204, s_0578, s_0542, s_2563, s_1266</td>\n",
       "    </tr>\n",
       "    <tr>\n",
       "      <th>24878</th>\n",
       "      <td>c_0497</td>\n",
       "      <td>159.0</td>\n",
       "      <td>12</td>\n",
       "      <td>1</td>\n",
       "      <td>s_1298</td>\n",
       "      <td>s_0210, s_1317, s_2194, s_2387, s_1316</td>\n",
       "    </tr>\n",
       "    <tr>\n",
       "      <th>44092</th>\n",
       "      <td>c_0720</td>\n",
       "      <td>161.0</td>\n",
       "      <td>1</td>\n",
       "      <td>0</td>\n",
       "      <td>s_0327</td>\n",
       "      <td>s_1216</td>\n",
       "    </tr>\n",
       "  </tbody>\n",
       "</table>\n",
       "</div>"
      ],
      "text/plain": [
       "           DX    AGE  MONTH  SEX          Absent                                 Present\n",
       "14105  c_0273   -3.0      8    0  s_2738, s_2282  s_2204, s_0578, s_0542, s_2563, s_1266\n",
       "24878  c_0497  159.0     12    1          s_1298  s_0210, s_1317, s_2194, s_2387, s_1316\n",
       "44092  c_0720  161.0      1    0          s_0327                                  s_1216"
      ]
     },
     "execution_count": 20,
     "metadata": {},
     "output_type": "execute_result"
    }
   ],
   "source": [
    "df.query(\"(AGE > 103) or (AGE < 0) \")"
   ]
  },
  {
   "cell_type": "markdown",
   "metadata": {
    "hidden": true
   },
   "source": [
    "Nothing obvious in terms of presence /absence of symptoms or DX, so safe to drop these, probably. "
   ]
  },
  {
   "cell_type": "code",
   "execution_count": 21,
   "metadata": {
    "hidden": true
   },
   "outputs": [],
   "source": [
    "df_age_cleaned = df.query(\"(AGE < 103) and (AGE > 0)\")"
   ]
  },
  {
   "cell_type": "markdown",
   "metadata": {
    "hidden": true
   },
   "source": [
    "## Missing/ Duplicated Values"
   ]
  },
  {
   "cell_type": "markdown",
   "metadata": {
    "hidden": true
   },
   "source": [
    "Using custom helper function to check for both ([see repository here](https://github.com/ijoseph/util/blob/6d6cd84da663c39009d3894977f3e61c88d0969b/isajosep_util/__init__.py#L20))"
   ]
  },
  {
   "cell_type": "code",
   "execution_count": 23,
   "metadata": {
    "hidden": true
   },
   "outputs": [
    {
     "name": "stdout",
     "output_type": "stream",
     "text": [
      "✗ 12,320 NaN or Inf values; 0 inf, 12,320 nan; Duplications: 185 duplicated rows by exclusively non-index content, 0 duplicated rows by exclusively index, 0 duplicated by both\n"
     ]
    },
    {
     "data": {
      "text/plain": [
       "(12320, 0, 12320, 185, 0, 0)"
      ]
     },
     "execution_count": 23,
     "metadata": {},
     "output_type": "execute_result"
    }
   ],
   "source": [
    "isajosep_util.check_for_null(df_age_cleaned)"
   ]
  },
  {
   "cell_type": "markdown",
   "metadata": {
    "hidden": true
   },
   "source": [
    "Okay, so several NaNs as expected via lack of check for absence or presence. "
   ]
  },
  {
   "cell_type": "markdown",
   "metadata": {
    "hidden": true
   },
   "source": [
    "Duplications are less expected. Looking more into these... "
   ]
  },
  {
   "cell_type": "markdown",
   "metadata": {
    "hidden": true
   },
   "source": [
    "### Duplicated by all columns other than index"
   ]
  },
  {
   "cell_type": "code",
   "execution_count": 36,
   "metadata": {
    "hidden": true,
    "scrolled": true
   },
   "outputs": [
    {
     "data": {
      "text/html": [
       "<div>\n",
       "<style scoped>\n",
       "    .dataframe tbody tr th:only-of-type {\n",
       "        vertical-align: middle;\n",
       "    }\n",
       "\n",
       "    .dataframe tbody tr th {\n",
       "        vertical-align: top;\n",
       "    }\n",
       "\n",
       "    .dataframe thead th {\n",
       "        text-align: right;\n",
       "    }\n",
       "</style>\n",
       "<table border=\"1\" class=\"dataframe\">\n",
       "  <thead>\n",
       "    <tr style=\"text-align: right;\">\n",
       "      <th></th>\n",
       "      <th>DX</th>\n",
       "      <th>AGE</th>\n",
       "      <th>MONTH</th>\n",
       "      <th>SEX</th>\n",
       "      <th>Absent</th>\n",
       "      <th>Present</th>\n",
       "    </tr>\n",
       "  </thead>\n",
       "  <tbody>\n",
       "    <tr>\n",
       "      <th>33339</th>\n",
       "      <td>c_0008</td>\n",
       "      <td>29.0</td>\n",
       "      <td>12</td>\n",
       "      <td>0</td>\n",
       "      <td>NaN</td>\n",
       "      <td>NaN</td>\n",
       "    </tr>\n",
       "    <tr>\n",
       "      <th>37010</th>\n",
       "      <td>c_0008</td>\n",
       "      <td>29.0</td>\n",
       "      <td>12</td>\n",
       "      <td>0</td>\n",
       "      <td>NaN</td>\n",
       "      <td>NaN</td>\n",
       "    </tr>\n",
       "    <tr>\n",
       "      <th>14403</th>\n",
       "      <td>c_0008</td>\n",
       "      <td>30.0</td>\n",
       "      <td>3</td>\n",
       "      <td>0</td>\n",
       "      <td>NaN</td>\n",
       "      <td>NaN</td>\n",
       "    </tr>\n",
       "    <tr>\n",
       "      <th>19340</th>\n",
       "      <td>c_0008</td>\n",
       "      <td>30.0</td>\n",
       "      <td>3</td>\n",
       "      <td>0</td>\n",
       "      <td>NaN</td>\n",
       "      <td>NaN</td>\n",
       "    </tr>\n",
       "    <tr>\n",
       "      <th>960</th>\n",
       "      <td>c_0008</td>\n",
       "      <td>30.0</td>\n",
       "      <td>6</td>\n",
       "      <td>1</td>\n",
       "      <td>NaN</td>\n",
       "      <td>NaN</td>\n",
       "    </tr>\n",
       "    <tr>\n",
       "      <th>59748</th>\n",
       "      <td>c_0008</td>\n",
       "      <td>30.0</td>\n",
       "      <td>6</td>\n",
       "      <td>1</td>\n",
       "      <td>NaN</td>\n",
       "      <td>NaN</td>\n",
       "    </tr>\n",
       "    <tr>\n",
       "      <th>29459</th>\n",
       "      <td>c_0008</td>\n",
       "      <td>31.0</td>\n",
       "      <td>1</td>\n",
       "      <td>1</td>\n",
       "      <td>NaN</td>\n",
       "      <td>NaN</td>\n",
       "    </tr>\n",
       "    <tr>\n",
       "      <th>53960</th>\n",
       "      <td>c_0008</td>\n",
       "      <td>31.0</td>\n",
       "      <td>1</td>\n",
       "      <td>1</td>\n",
       "      <td>NaN</td>\n",
       "      <td>NaN</td>\n",
       "    </tr>\n",
       "    <tr>\n",
       "      <th>32905</th>\n",
       "      <td>c_0008</td>\n",
       "      <td>31.0</td>\n",
       "      <td>6</td>\n",
       "      <td>0</td>\n",
       "      <td>NaN</td>\n",
       "      <td>NaN</td>\n",
       "    </tr>\n",
       "    <tr>\n",
       "      <th>49801</th>\n",
       "      <td>c_0008</td>\n",
       "      <td>31.0</td>\n",
       "      <td>6</td>\n",
       "      <td>0</td>\n",
       "      <td>NaN</td>\n",
       "      <td>NaN</td>\n",
       "    </tr>\n",
       "  </tbody>\n",
       "</table>\n",
       "</div>"
      ],
      "text/plain": [
       "           DX   AGE  MONTH  SEX Absent Present\n",
       "33339  c_0008  29.0     12    0    NaN     NaN\n",
       "37010  c_0008  29.0     12    0    NaN     NaN\n",
       "14403  c_0008  30.0      3    0    NaN     NaN\n",
       "19340  c_0008  30.0      3    0    NaN     NaN\n",
       "960    c_0008  30.0      6    1    NaN     NaN\n",
       "59748  c_0008  30.0      6    1    NaN     NaN\n",
       "29459  c_0008  31.0      1    1    NaN     NaN\n",
       "53960  c_0008  31.0      1    1    NaN     NaN\n",
       "32905  c_0008  31.0      6    0    NaN     NaN\n",
       "49801  c_0008  31.0      6    0    NaN     NaN"
      ]
     },
     "execution_count": 36,
     "metadata": {},
     "output_type": "execute_result"
    }
   ],
   "source": [
    "df_age_cleaned[df_age_cleaned.duplicated(keep=False)].sort_values(by=['DX','AGE', 'MONTH', 'SEX']).head(10)"
   ]
  },
  {
   "cell_type": "code",
   "execution_count": 39,
   "metadata": {
    "hidden": true
   },
   "outputs": [],
   "source": [
    "df_age_cleaned_dedup = df_age_cleaned.drop_duplicates(subset=['DX', 'AGE', 'MONTH', 'Absent', 'Present'])"
   ]
  },
  {
   "cell_type": "code",
   "execution_count": 41,
   "metadata": {
    "hidden": true
   },
   "outputs": [
    {
     "data": {
      "text/plain": [
       "((69305, 6), (69646, 6))"
      ]
     },
     "execution_count": 41,
     "metadata": {},
     "output_type": "execute_result"
    }
   ],
   "source": [
    "df_age_cleaned_dedup.shape, df_age_cleaned.shape"
   ]
  },
  {
   "cell_type": "markdown",
   "metadata": {
    "hidden": true
   },
   "source": [
    "### Duplicated by `DX`, `AGE`, `MONTH`, `SEX`"
   ]
  },
  {
   "cell_type": "code",
   "execution_count": 74,
   "metadata": {
    "hidden": true
   },
   "outputs": [],
   "source": [
    "dup_subset = ['DX', 'AGE', 'MONTH', 'SEX']"
   ]
  },
  {
   "cell_type": "code",
   "execution_count": 75,
   "metadata": {
    "hidden": true
   },
   "outputs": [
    {
     "name": "stdout",
     "output_type": "stream",
     "text": [
      "✗ 0 NaN or Inf values; 0 inf, 0 nan; Duplications: 48,083 duplicated rows by exclusively non-index content, 0 duplicated rows by exclusively index, 0 duplicated by both\n"
     ]
    },
    {
     "data": {
      "text/plain": [
       "(0, 0, 0, 48083, 0, 0)"
      ]
     },
     "execution_count": 75,
     "metadata": {},
     "output_type": "execute_result"
    }
   ],
   "source": [
    "isajosep_util.check_for_null(df_age_cleaned_dedup.drop(['Absent', 'Present'], axis='columns'))"
   ]
  },
  {
   "cell_type": "code",
   "execution_count": 65,
   "metadata": {
    "hidden": true
   },
   "outputs": [
    {
     "name": "stdout",
     "output_type": "stream",
     "text": [
      "60,578 of 69,305 rows are part of a duplication event!\n"
     ]
    }
   ],
   "source": [
    "print(\"{:,} of {:,} rows are part of a duplication event!\".format(df_age_cleaned_dedup.drop(['Absent', 'Present'], axis='columns').duplicated(keep=False).sum(), df_age_cleaned_dedup.shape[0]))"
   ]
  },
  {
   "cell_type": "markdown",
   "metadata": {
    "hidden": true
   },
   "source": [
    "Okay, interesting in that lots of duplications when we get rid of those columns for some reason. Off the bat, seems like too many duplications to be by chance; how many people with the exact same age (to the month) and gender could there be receiving the same diagnosis? "
   ]
  },
  {
   "cell_type": "markdown",
   "metadata": {
    "hidden": true
   },
   "source": [
    "Therefore, we need to merge the `Absent` and `Present` columns for rows with duplicate values of `( DX, AGE, MONTH, SEX)`. The assumption here is that duplicate diagnoses are simply multiple entires of the same real-world diagnostic test, rather than duplicate relatively-independent real-world tests having been performed."
   ]
  },
  {
   "cell_type": "code",
   "execution_count": 76,
   "metadata": {
    "hidden": true
   },
   "outputs": [
    {
     "data": {
      "text/html": [
       "<div>\n",
       "<style scoped>\n",
       "    .dataframe tbody tr th:only-of-type {\n",
       "        vertical-align: middle;\n",
       "    }\n",
       "\n",
       "    .dataframe tbody tr th {\n",
       "        vertical-align: top;\n",
       "    }\n",
       "\n",
       "    .dataframe thead th {\n",
       "        text-align: right;\n",
       "    }\n",
       "</style>\n",
       "<table border=\"1\" class=\"dataframe\">\n",
       "  <thead>\n",
       "    <tr style=\"text-align: right;\">\n",
       "      <th></th>\n",
       "      <th>DX</th>\n",
       "      <th>AGE</th>\n",
       "      <th>MONTH</th>\n",
       "      <th>SEX</th>\n",
       "      <th>Absent</th>\n",
       "      <th>Present</th>\n",
       "    </tr>\n",
       "  </thead>\n",
       "  <tbody>\n",
       "    <tr>\n",
       "      <th>28287</th>\n",
       "      <td>c_0008</td>\n",
       "      <td>1.0</td>\n",
       "      <td>1</td>\n",
       "      <td>1</td>\n",
       "      <td>s_0553, s_0180</td>\n",
       "      <td>s_0084, s_0443</td>\n",
       "    </tr>\n",
       "    <tr>\n",
       "      <th>40964</th>\n",
       "      <td>c_0008</td>\n",
       "      <td>1.0</td>\n",
       "      <td>1</td>\n",
       "      <td>1</td>\n",
       "      <td>s_0106, s_0542, s_0553, s_0363, s_0180</td>\n",
       "      <td>s_0084</td>\n",
       "    </tr>\n",
       "    <tr>\n",
       "      <th>1035</th>\n",
       "      <td>c_0008</td>\n",
       "      <td>2.0</td>\n",
       "      <td>5</td>\n",
       "      <td>1</td>\n",
       "      <td>s_0434, s_0309, s_1141, s_0084, s_0180</td>\n",
       "      <td>s_0400, s_0445, s_0022, s_0826</td>\n",
       "    </tr>\n",
       "    <tr>\n",
       "      <th>44996</th>\n",
       "      <td>c_0008</td>\n",
       "      <td>2.0</td>\n",
       "      <td>5</td>\n",
       "      <td>1</td>\n",
       "      <td>s_0911, s_0180, s_0268, s_1141, s_0542, s_0826...</td>\n",
       "      <td>s_0084</td>\n",
       "    </tr>\n",
       "    <tr>\n",
       "      <th>52058</th>\n",
       "      <td>c_0008</td>\n",
       "      <td>2.0</td>\n",
       "      <td>6</td>\n",
       "      <td>1</td>\n",
       "      <td>NaN</td>\n",
       "      <td>s_2194, s_0309, s_0826</td>\n",
       "    </tr>\n",
       "  </tbody>\n",
       "</table>\n",
       "</div>"
      ],
      "text/plain": [
       "           DX  AGE  MONTH  SEX                                             Absent                         Present\n",
       "28287  c_0008  1.0      1    1                                     s_0553, s_0180                  s_0084, s_0443\n",
       "40964  c_0008  1.0      1    1             s_0106, s_0542, s_0553, s_0363, s_0180                          s_0084\n",
       "1035   c_0008  2.0      5    1             s_0434, s_0309, s_1141, s_0084, s_0180  s_0400, s_0445, s_0022, s_0826\n",
       "44996  c_0008  2.0      5    1  s_0911, s_0180, s_0268, s_1141, s_0542, s_0826...                          s_0084\n",
       "52058  c_0008  2.0      6    1                                                NaN          s_2194, s_0309, s_0826"
      ]
     },
     "execution_count": 76,
     "metadata": {},
     "output_type": "execute_result"
    }
   ],
   "source": [
    "df_age_cleaned_dedup[df_age_cleaned_dedup.duplicated(subset=dup_subset, keep=False)].sort_values(dup_subset).head()"
   ]
  },
  {
   "cell_type": "markdown",
   "metadata": {
    "hidden": true
   },
   "source": [
    "Can probalby fix this with [`groupby` and an `aggregate` function](https://stackoverflow.com/questions/36271413/pandas-merge-nearly-duplicate-rows-based-on-column-value). "
   ]
  },
  {
   "cell_type": "markdown",
   "metadata": {
    "hidden": true
   },
   "source": [
    "#### `aggregate` function"
   ]
  },
  {
   "cell_type": "code",
   "execution_count": 166,
   "metadata": {
    "hidden": true
   },
   "outputs": [],
   "source": [
    "def combine_symptom_cells(cell_list):\n",
    "    \"\"\"\n",
    "    Takes in a list of cells, each of which are comma-delim strings (or just NaN which need to be ignored). \n",
    "    \n",
    "    Outputs a de-duplicated tuple of combined symptom codes. \n",
    "    \n",
    "    Example: \n",
    "    ['s_0553, s_0180', np.nan,'s_0106, s_0542, s_0553, s_0363, s_0180'] -> \n",
    "    ('s_0363', 's_0106', 's_0180', 's_0542', 's_0553')    \n",
    "    \"\"\"\n",
    "    \n",
    "    # Parse from string to list of string by commas\n",
    "    parsed = [ c.split(',') for c in cell_list if isinstance(c,str) ]\n",
    "    \n",
    "    # Flatten \n",
    "    parsed = [item for sublist in parsed for item in sublist]\n",
    "    \n",
    "    #Strip whitespace\n",
    "    parsed = [s.strip() for s in parsed]\n",
    "    \n",
    "    # Remove duplciates\n",
    "    parsed = tuple(set(parsed))\n",
    "    \n",
    "    return(parsed)    "
   ]
  },
  {
   "cell_type": "markdown",
   "metadata": {
    "hidden": true
   },
   "source": [
    "##### Test"
   ]
  },
  {
   "cell_type": "code",
   "execution_count": 167,
   "metadata": {
    "hidden": true
   },
   "outputs": [],
   "source": [
    "tst_arr = ['s_0553, s_0180', np.nan,'s_0106, s_0542, s_0553, s_0363, s_0180']"
   ]
  },
  {
   "cell_type": "code",
   "execution_count": 168,
   "metadata": {
    "hidden": true
   },
   "outputs": [
    {
     "data": {
      "text/plain": [
       "('s_0363', 's_0106', 's_0180', 's_0542', 's_0553')"
      ]
     },
     "execution_count": 168,
     "metadata": {},
     "output_type": "execute_result"
    }
   ],
   "source": [
    "combine_symptom_cells(tst_arr)"
   ]
  },
  {
   "cell_type": "markdown",
   "metadata": {
    "hidden": true
   },
   "source": [
    "##### Use"
   ]
  },
  {
   "cell_type": "code",
   "execution_count": 169,
   "metadata": {
    "hidden": true
   },
   "outputs": [],
   "source": [
    "df_aggregated = df_age_cleaned_dedup.groupby(dup_subset).aggregate(combine_symptom_cells).reset_index()"
   ]
  },
  {
   "cell_type": "code",
   "execution_count": 170,
   "metadata": {
    "hidden": true
   },
   "outputs": [
    {
     "data": {
      "text/plain": [
       "(21222, 6)"
      ]
     },
     "execution_count": 170,
     "metadata": {},
     "output_type": "execute_result"
    }
   ],
   "source": [
    "df_aggregated.shape"
   ]
  },
  {
   "cell_type": "code",
   "execution_count": 172,
   "metadata": {
    "hidden": true
   },
   "outputs": [
    {
     "data": {
      "text/html": [
       "<div>\n",
       "<style scoped>\n",
       "    .dataframe tbody tr th:only-of-type {\n",
       "        vertical-align: middle;\n",
       "    }\n",
       "\n",
       "    .dataframe tbody tr th {\n",
       "        vertical-align: top;\n",
       "    }\n",
       "\n",
       "    .dataframe thead th {\n",
       "        text-align: right;\n",
       "    }\n",
       "</style>\n",
       "<table border=\"1\" class=\"dataframe\">\n",
       "  <thead>\n",
       "    <tr style=\"text-align: right;\">\n",
       "      <th></th>\n",
       "      <th>DX</th>\n",
       "      <th>AGE</th>\n",
       "      <th>MONTH</th>\n",
       "      <th>SEX</th>\n",
       "      <th>Absent</th>\n",
       "      <th>Present</th>\n",
       "    </tr>\n",
       "  </thead>\n",
       "  <tbody>\n",
       "    <tr>\n",
       "      <th>636</th>\n",
       "      <td>c_0008</td>\n",
       "      <td>41.0</td>\n",
       "      <td>2</td>\n",
       "      <td>1</td>\n",
       "      <td>(s_0620, s_1211, s_0553, s_0605)</td>\n",
       "      <td>(s_2282, s_0511, s_0039)</td>\n",
       "    </tr>\n",
       "    <tr>\n",
       "      <th>14102</th>\n",
       "      <td>c_0273</td>\n",
       "      <td>45.0</td>\n",
       "      <td>9</td>\n",
       "      <td>0</td>\n",
       "      <td>(s_2243, s_1547, s_0434, s_0062, s_0327, s_010...</td>\n",
       "      <td>(s_0798, s_1005, s_1302, s_0300, s_0864, s_024...</td>\n",
       "    </tr>\n",
       "    <tr>\n",
       "      <th>2275</th>\n",
       "      <td>c_0036</td>\n",
       "      <td>50.0</td>\n",
       "      <td>7</td>\n",
       "      <td>0</td>\n",
       "      <td>(s_0400, s_0136, s_0363, s_0085, s_0242, s_000...</td>\n",
       "      <td>(s_2734, s_0084, s_0180, s_0022, s_0553, s_082...</td>\n",
       "    </tr>\n",
       "    <tr>\n",
       "      <th>14238</th>\n",
       "      <td>c_0273</td>\n",
       "      <td>51.0</td>\n",
       "      <td>11</td>\n",
       "      <td>1</td>\n",
       "      <td>(s_0363, s_0084, s_0002, s_0180, s_1030, s_082...</td>\n",
       "      <td>(s_0634, s_2734, s_2194, s_0078, s_2282, s_002...</td>\n",
       "    </tr>\n",
       "    <tr>\n",
       "      <th>13852</th>\n",
       "      <td>c_0273</td>\n",
       "      <td>34.0</td>\n",
       "      <td>12</td>\n",
       "      <td>0</td>\n",
       "      <td>(s_0478, s_0180, s_0022, s_0118, s_0120)</td>\n",
       "      <td>(s_0078, s_0070)</td>\n",
       "    </tr>\n",
       "    <tr>\n",
       "      <th>11675</th>\n",
       "      <td>c_0196</td>\n",
       "      <td>6.0</td>\n",
       "      <td>11</td>\n",
       "      <td>1</td>\n",
       "      <td>(s_0363, s_0864, s_0002, s_0084, s_0106, s_018...</td>\n",
       "      <td>(s_0400, s_0434, s_2194, s_0084, s_0180, s_054...</td>\n",
       "    </tr>\n",
       "    <tr>\n",
       "      <th>16092</th>\n",
       "      <td>c_0497</td>\n",
       "      <td>75.0</td>\n",
       "      <td>8</td>\n",
       "      <td>0</td>\n",
       "      <td>(s_2243, s_0124, s_0039, s_0242, s_0002, s_008...</td>\n",
       "      <td>(s_1547, s_0270, s_2367, s_1316, s_2252, s_060...</td>\n",
       "    </tr>\n",
       "    <tr>\n",
       "      <th>8244</th>\n",
       "      <td>c_0152</td>\n",
       "      <td>44.0</td>\n",
       "      <td>10</td>\n",
       "      <td>0</td>\n",
       "      <td>(s_0506, s_0136, s_1611, s_0362, s_0085, s_086...</td>\n",
       "      <td>(s_0136, s_0400, s_0478, s_0084, s_0180, s_118...</td>\n",
       "    </tr>\n",
       "    <tr>\n",
       "      <th>2830</th>\n",
       "      <td>c_0036</td>\n",
       "      <td>76.0</td>\n",
       "      <td>9</td>\n",
       "      <td>0</td>\n",
       "      <td>(s_1547, s_0124, s_0084, s_0002, s_0180, s_002...</td>\n",
       "      <td>(s_2734, s_0786, s_0227, s_0084, s_0078, s_105...</td>\n",
       "    </tr>\n",
       "    <tr>\n",
       "      <th>11452</th>\n",
       "      <td>c_0187</td>\n",
       "      <td>67.0</td>\n",
       "      <td>2</td>\n",
       "      <td>1</td>\n",
       "      <td>(s_0837, s_0180)</td>\n",
       "      <td>(s_0826, s_0242)</td>\n",
       "    </tr>\n",
       "  </tbody>\n",
       "</table>\n",
       "</div>"
      ],
      "text/plain": [
       "           DX   AGE  MONTH  SEX                                             Absent                                            Present\n",
       "636    c_0008  41.0      2    1                   (s_0620, s_1211, s_0553, s_0605)                           (s_2282, s_0511, s_0039)\n",
       "14102  c_0273  45.0      9    0  (s_2243, s_1547, s_0434, s_0062, s_0327, s_010...  (s_0798, s_1005, s_1302, s_0300, s_0864, s_024...\n",
       "2275   c_0036  50.0      7    0  (s_0400, s_0136, s_0363, s_0085, s_0242, s_000...  (s_2734, s_0084, s_0180, s_0022, s_0553, s_082...\n",
       "14238  c_0273  51.0     11    1  (s_0363, s_0084, s_0002, s_0180, s_1030, s_082...  (s_0634, s_2734, s_2194, s_0078, s_2282, s_002...\n",
       "13852  c_0273  34.0     12    0           (s_0478, s_0180, s_0022, s_0118, s_0120)                                   (s_0078, s_0070)\n",
       "11675  c_0196   6.0     11    1  (s_0363, s_0864, s_0002, s_0084, s_0106, s_018...  (s_0400, s_0434, s_2194, s_0084, s_0180, s_054...\n",
       "16092  c_0497  75.0      8    0  (s_2243, s_0124, s_0039, s_0242, s_0002, s_008...  (s_1547, s_0270, s_2367, s_1316, s_2252, s_060...\n",
       "8244   c_0152  44.0     10    0  (s_0506, s_0136, s_1611, s_0362, s_0085, s_086...  (s_0136, s_0400, s_0478, s_0084, s_0180, s_118...\n",
       "2830   c_0036  76.0      9    0  (s_1547, s_0124, s_0084, s_0002, s_0180, s_002...  (s_2734, s_0786, s_0227, s_0084, s_0078, s_105...\n",
       "11452  c_0187  67.0      2    1                                   (s_0837, s_0180)                                   (s_0826, s_0242)"
      ]
     },
     "execution_count": 172,
     "metadata": {},
     "output_type": "execute_result"
    }
   ],
   "source": [
    "df_aggregated.sample(10)"
   ]
  },
  {
   "cell_type": "code",
   "execution_count": 171,
   "metadata": {
    "hidden": true
   },
   "outputs": [
    {
     "name": "stdout",
     "output_type": "stream",
     "text": [
      "✓ No Nan or Inf values; no duplications.\n"
     ]
    },
    {
     "data": {
      "text/plain": [
       "(0, 0, 0)"
      ]
     },
     "execution_count": 171,
     "metadata": {},
     "output_type": "execute_result"
    }
   ],
   "source": [
    "isajosep_util.check_for_null(df_aggregated)"
   ]
  },
  {
   "cell_type": "markdown",
   "metadata": {},
   "source": [
    "# Formatting"
   ]
  },
  {
   "cell_type": "markdown",
   "metadata": {
    "heading_collapsed": true
   },
   "source": [
    "## Index by `[DX, AGE, MONTH, SEX]`."
   ]
  },
  {
   "cell_type": "code",
   "execution_count": 173,
   "metadata": {
    "hidden": true
   },
   "outputs": [],
   "source": [
    "df_aggregated.set_index(['DX', 'AGE', 'MONTH', 'SEX'], inplace=True)"
   ]
  },
  {
   "cell_type": "code",
   "execution_count": 174,
   "metadata": {
    "hidden": true
   },
   "outputs": [
    {
     "data": {
      "text/html": [
       "<div>\n",
       "<style scoped>\n",
       "    .dataframe tbody tr th:only-of-type {\n",
       "        vertical-align: middle;\n",
       "    }\n",
       "\n",
       "    .dataframe tbody tr th {\n",
       "        vertical-align: top;\n",
       "    }\n",
       "\n",
       "    .dataframe thead th {\n",
       "        text-align: right;\n",
       "    }\n",
       "</style>\n",
       "<table border=\"1\" class=\"dataframe\">\n",
       "  <thead>\n",
       "    <tr style=\"text-align: right;\">\n",
       "      <th></th>\n",
       "      <th></th>\n",
       "      <th></th>\n",
       "      <th></th>\n",
       "      <th>Absent</th>\n",
       "      <th>Present</th>\n",
       "    </tr>\n",
       "    <tr>\n",
       "      <th>DX</th>\n",
       "      <th>AGE</th>\n",
       "      <th>MONTH</th>\n",
       "      <th>SEX</th>\n",
       "      <th></th>\n",
       "      <th></th>\n",
       "    </tr>\n",
       "  </thead>\n",
       "  <tbody>\n",
       "    <tr>\n",
       "      <th>c_0497</th>\n",
       "      <th>26.0</th>\n",
       "      <th>9</th>\n",
       "      <th>1</th>\n",
       "      <td>(s_0124, s_0002, s_0084, s_0180, s_0022, s_024...</td>\n",
       "      <td>(s_1759, s_1547, s_0270, s_1316, s_0242, s_219...</td>\n",
       "    </tr>\n",
       "    <tr>\n",
       "      <th>c_0187</th>\n",
       "      <th>1.0</th>\n",
       "      <th>9</th>\n",
       "      <th>0</th>\n",
       "      <td>(s_0542, s_0180, s_0553, s_2742)</td>\n",
       "      <td>(s_0400, s_0084, s_0309, s_1155, s_0826)</td>\n",
       "    </tr>\n",
       "    <tr>\n",
       "      <th>c_0273</th>\n",
       "      <th>35.0</th>\n",
       "      <th>2</th>\n",
       "      <th>1</th>\n",
       "      <td>(s_1611, s_0124, s_0434, s_0106, s_0180, s_054...</td>\n",
       "      <td>(s_2734, s_0242, s_0002, s_0106, s_1266, s_154...</td>\n",
       "    </tr>\n",
       "  </tbody>\n",
       "</table>\n",
       "</div>"
      ],
      "text/plain": [
       "                                                                  Absent                                            Present\n",
       "DX     AGE  MONTH SEX                                                                                                      \n",
       "c_0497 26.0 9     1    (s_0124, s_0002, s_0084, s_0180, s_0022, s_024...  (s_1759, s_1547, s_0270, s_1316, s_0242, s_219...\n",
       "c_0187 1.0  9     0                     (s_0542, s_0180, s_0553, s_2742)           (s_0400, s_0084, s_0309, s_1155, s_0826)\n",
       "c_0273 35.0 2     1    (s_1611, s_0124, s_0434, s_0106, s_0180, s_054...  (s_2734, s_0242, s_0002, s_0106, s_1266, s_154..."
      ]
     },
     "execution_count": 174,
     "metadata": {},
     "output_type": "execute_result"
    }
   ],
   "source": [
    "df_aggregated.sample(3)"
   ]
  },
  {
   "cell_type": "markdown",
   "metadata": {},
   "source": [
    "## Create flags for each symptom checked so as to be useful as features for ML modeling.  "
   ]
  },
  {
   "cell_type": "markdown",
   "metadata": {},
   "source": [
    "Basic idea: for each patient, each symptom can have one of four states, each of which might have some diagnostic utility: \n",
    "1. Symptom not checked for* (`not_checked`)\n",
    "2. Symptom checked for and present. (`checked_and_present`)\n",
    "3. Symptom checked for and absent. (`checked_and_absent`)\n",
    "4. Symptom checked for and (present AND absent)† (`checked_and_present_and_absent`) \n",
    "\n",
    "†The fourth option is contradictory at first glance, but potentially possible if symptoms checked at, for example, different times within a month and give different results on each check. \n",
    "\n",
    "*Option one is of interested because if symptom wasn't checked for, that might be of particular diagnostic value (perhaps the patient was unable to consent to the diagnostic, which is useful unformation in and of itself in terms of the pateint's verbal status, for example). "
   ]
  },
  {
   "cell_type": "markdown",
   "metadata": {},
   "source": [
    "Concrete encoding: \n",
    "For each symptom `A`, `sklearn` will convert to boolean indicators with the folowing meaning:\n",
    "\n",
    "\n",
    "|Indicator   |  Meaning |\n",
    "|---|---|\n",
    "|`absentA`   |  $0$: Symptom not found in `Absent` column; $1$: symptom found in `Absent` column  |\n",
    "|`presentA`   |  $0$: Symptom not found in `Present` column; $1$: sympton found in `Present` column  |\n",
    "\n",
    "\n",
    "We will convert this to the four options above for interpretability: \n",
    "\n",
    "| `absentA` | `presentA` | *state*|\n",
    "|---|---|---|\n",
    "| 0| 0 | `not_checked` |\n",
    "| 0 |1 | `checked_and_present` |\n",
    "|1  | 0 | `checked_and_absent` |\n",
    "| 1 | 1 | `checked_and_present_and_absent`|"
   ]
  },
  {
   "cell_type": "code",
   "execution_count": 225,
   "metadata": {},
   "outputs": [],
   "source": [
    "smpl = df_aggregated.sample(2)"
   ]
  },
  {
   "cell_type": "code",
   "execution_count": 226,
   "metadata": {},
   "outputs": [
    {
     "data": {
      "text/html": [
       "<div>\n",
       "<style scoped>\n",
       "    .dataframe tbody tr th:only-of-type {\n",
       "        vertical-align: middle;\n",
       "    }\n",
       "\n",
       "    .dataframe tbody tr th {\n",
       "        vertical-align: top;\n",
       "    }\n",
       "\n",
       "    .dataframe thead th {\n",
       "        text-align: right;\n",
       "    }\n",
       "</style>\n",
       "<table border=\"1\" class=\"dataframe\">\n",
       "  <thead>\n",
       "    <tr style=\"text-align: right;\">\n",
       "      <th></th>\n",
       "      <th></th>\n",
       "      <th></th>\n",
       "      <th></th>\n",
       "      <th>Absent</th>\n",
       "      <th>Present</th>\n",
       "    </tr>\n",
       "    <tr>\n",
       "      <th>DX</th>\n",
       "      <th>AGE</th>\n",
       "      <th>MONTH</th>\n",
       "      <th>SEX</th>\n",
       "      <th></th>\n",
       "      <th></th>\n",
       "    </tr>\n",
       "  </thead>\n",
       "  <tbody>\n",
       "    <tr>\n",
       "      <th>c_0196</th>\n",
       "      <th>43.0</th>\n",
       "      <th>4</th>\n",
       "      <th>0</th>\n",
       "      <td>(s_0400, s_0363, s_0242, s_0084, s_0180, s_054...</td>\n",
       "      <td>(s_0400, s_0136, s_0478, s_0864, s_0084, s_018...</td>\n",
       "    </tr>\n",
       "    <tr>\n",
       "      <th>c_0497</th>\n",
       "      <th>14.0</th>\n",
       "      <th>1</th>\n",
       "      <th>1</th>\n",
       "      <td>(s_0136, s_0084, s_0002, s_1266, s_0542, s_018...</td>\n",
       "      <td>(s_0496,)</td>\n",
       "    </tr>\n",
       "  </tbody>\n",
       "</table>\n",
       "</div>"
      ],
      "text/plain": [
       "                                                                  Absent                                            Present\n",
       "DX     AGE  MONTH SEX                                                                                                      \n",
       "c_0196 43.0 4     0    (s_0400, s_0363, s_0242, s_0084, s_0180, s_054...  (s_0400, s_0136, s_0478, s_0864, s_0084, s_018...\n",
       "c_0497 14.0 1     1    (s_0136, s_0084, s_0002, s_1266, s_0542, s_018...                                          (s_0496,)"
      ]
     },
     "execution_count": 226,
     "metadata": {},
     "output_type": "execute_result"
    }
   ],
   "source": [
    "smpl"
   ]
  },
  {
   "cell_type": "code",
   "execution_count": 233,
   "metadata": {},
   "outputs": [],
   "source": [
    "binarizer = sklearn.preprocessing.MultiLabelBinarizer()\n",
    "binarizer = binarizer.fit(smpl.Absent + smpl.Present) # fit on both present and absent classes"
   ]
  },
  {
   "cell_type": "code",
   "execution_count": 236,
   "metadata": {},
   "outputs": [],
   "source": [
    "absent_df = pd.DataFrame(binarizer.transform(smpl.Absent), columns=binarizer.classes_, index=smpl.index)"
   ]
  },
  {
   "cell_type": "code",
   "execution_count": 237,
   "metadata": {},
   "outputs": [
    {
     "data": {
      "text/html": [
       "<div>\n",
       "<style scoped>\n",
       "    .dataframe tbody tr th:only-of-type {\n",
       "        vertical-align: middle;\n",
       "    }\n",
       "\n",
       "    .dataframe tbody tr th {\n",
       "        vertical-align: top;\n",
       "    }\n",
       "\n",
       "    .dataframe thead th {\n",
       "        text-align: right;\n",
       "    }\n",
       "</style>\n",
       "<table border=\"1\" class=\"dataframe\">\n",
       "  <thead>\n",
       "    <tr style=\"text-align: right;\">\n",
       "      <th></th>\n",
       "      <th></th>\n",
       "      <th></th>\n",
       "      <th></th>\n",
       "      <th>s_0002</th>\n",
       "      <th>s_0022</th>\n",
       "      <th>s_0084</th>\n",
       "      <th>s_0136</th>\n",
       "      <th>s_0180</th>\n",
       "      <th>s_0242</th>\n",
       "      <th>s_0278</th>\n",
       "      <th>s_0346</th>\n",
       "      <th>s_0363</th>\n",
       "      <th>s_0400</th>\n",
       "      <th>s_0445</th>\n",
       "      <th>s_0478</th>\n",
       "      <th>s_0496</th>\n",
       "      <th>s_0542</th>\n",
       "      <th>s_0553</th>\n",
       "      <th>s_0701</th>\n",
       "      <th>s_0826</th>\n",
       "      <th>s_0837</th>\n",
       "      <th>s_0864</th>\n",
       "      <th>s_1266</th>\n",
       "      <th>s_1542</th>\n",
       "      <th>s_2282</th>\n",
       "      <th>s_2739</th>\n",
       "    </tr>\n",
       "    <tr>\n",
       "      <th>DX</th>\n",
       "      <th>AGE</th>\n",
       "      <th>MONTH</th>\n",
       "      <th>SEX</th>\n",
       "      <th></th>\n",
       "      <th></th>\n",
       "      <th></th>\n",
       "      <th></th>\n",
       "      <th></th>\n",
       "      <th></th>\n",
       "      <th></th>\n",
       "      <th></th>\n",
       "      <th></th>\n",
       "      <th></th>\n",
       "      <th></th>\n",
       "      <th></th>\n",
       "      <th></th>\n",
       "      <th></th>\n",
       "      <th></th>\n",
       "      <th></th>\n",
       "      <th></th>\n",
       "      <th></th>\n",
       "      <th></th>\n",
       "      <th></th>\n",
       "      <th></th>\n",
       "      <th></th>\n",
       "      <th></th>\n",
       "    </tr>\n",
       "  </thead>\n",
       "  <tbody>\n",
       "    <tr>\n",
       "      <th>c_0196</th>\n",
       "      <th>43.0</th>\n",
       "      <th>4</th>\n",
       "      <th>0</th>\n",
       "      <td>0</td>\n",
       "      <td>0</td>\n",
       "      <td>1</td>\n",
       "      <td>0</td>\n",
       "      <td>1</td>\n",
       "      <td>1</td>\n",
       "      <td>0</td>\n",
       "      <td>0</td>\n",
       "      <td>1</td>\n",
       "      <td>1</td>\n",
       "      <td>1</td>\n",
       "      <td>0</td>\n",
       "      <td>0</td>\n",
       "      <td>1</td>\n",
       "      <td>1</td>\n",
       "      <td>1</td>\n",
       "      <td>1</td>\n",
       "      <td>1</td>\n",
       "      <td>0</td>\n",
       "      <td>1</td>\n",
       "      <td>1</td>\n",
       "      <td>0</td>\n",
       "      <td>0</td>\n",
       "    </tr>\n",
       "    <tr>\n",
       "      <th>c_0497</th>\n",
       "      <th>14.0</th>\n",
       "      <th>1</th>\n",
       "      <th>1</th>\n",
       "      <td>1</td>\n",
       "      <td>1</td>\n",
       "      <td>1</td>\n",
       "      <td>1</td>\n",
       "      <td>1</td>\n",
       "      <td>0</td>\n",
       "      <td>0</td>\n",
       "      <td>0</td>\n",
       "      <td>0</td>\n",
       "      <td>0</td>\n",
       "      <td>1</td>\n",
       "      <td>0</td>\n",
       "      <td>0</td>\n",
       "      <td>1</td>\n",
       "      <td>0</td>\n",
       "      <td>0</td>\n",
       "      <td>0</td>\n",
       "      <td>0</td>\n",
       "      <td>0</td>\n",
       "      <td>1</td>\n",
       "      <td>0</td>\n",
       "      <td>0</td>\n",
       "      <td>0</td>\n",
       "    </tr>\n",
       "  </tbody>\n",
       "</table>\n",
       "</div>"
      ],
      "text/plain": [
       "                       s_0002  s_0022  s_0084  s_0136  s_0180  s_0242  s_0278  s_0346  s_0363  s_0400  s_0445  s_0478  s_0496  s_0542  s_0553  s_0701  s_0826  s_0837  s_0864  s_1266  s_1542  s_2282  s_2739\n",
       "DX     AGE  MONTH SEX                                                                                                                                                                                        \n",
       "c_0196 43.0 4     0         0       0       1       0       1       1       0       0       1       1       1       0       0       1       1       1       1       1       0       1       1       0       0\n",
       "c_0497 14.0 1     1         1       1       1       1       1       0       0       0       0       0       1       0       0       1       0       0       0       0       0       1       0       0       0"
      ]
     },
     "execution_count": 237,
     "metadata": {},
     "output_type": "execute_result"
    }
   ],
   "source": [
    "absent_df"
   ]
  },
  {
   "cell_type": "markdown",
   "metadata": {},
   "source": [
    "`absent_df`: each column indicates whether sympton explicitly absent. "
   ]
  },
  {
   "cell_type": "code",
   "execution_count": 239,
   "metadata": {},
   "outputs": [],
   "source": [
    "present_df = pd.DataFrame(binarizer.transform(smpl.Present), columns=binarizer.classes_, index=smpl.index)"
   ]
  },
  {
   "cell_type": "code",
   "execution_count": 240,
   "metadata": {},
   "outputs": [
    {
     "data": {
      "text/html": [
       "<div>\n",
       "<style scoped>\n",
       "    .dataframe tbody tr th:only-of-type {\n",
       "        vertical-align: middle;\n",
       "    }\n",
       "\n",
       "    .dataframe tbody tr th {\n",
       "        vertical-align: top;\n",
       "    }\n",
       "\n",
       "    .dataframe thead th {\n",
       "        text-align: right;\n",
       "    }\n",
       "</style>\n",
       "<table border=\"1\" class=\"dataframe\">\n",
       "  <thead>\n",
       "    <tr style=\"text-align: right;\">\n",
       "      <th></th>\n",
       "      <th></th>\n",
       "      <th></th>\n",
       "      <th></th>\n",
       "      <th>s_0002</th>\n",
       "      <th>s_0022</th>\n",
       "      <th>s_0084</th>\n",
       "      <th>s_0136</th>\n",
       "      <th>s_0180</th>\n",
       "      <th>s_0242</th>\n",
       "      <th>s_0278</th>\n",
       "      <th>s_0346</th>\n",
       "      <th>s_0363</th>\n",
       "      <th>s_0400</th>\n",
       "      <th>s_0445</th>\n",
       "      <th>s_0478</th>\n",
       "      <th>s_0496</th>\n",
       "      <th>s_0542</th>\n",
       "      <th>s_0553</th>\n",
       "      <th>s_0701</th>\n",
       "      <th>s_0826</th>\n",
       "      <th>s_0837</th>\n",
       "      <th>s_0864</th>\n",
       "      <th>s_1266</th>\n",
       "      <th>s_1542</th>\n",
       "      <th>s_2282</th>\n",
       "      <th>s_2739</th>\n",
       "    </tr>\n",
       "    <tr>\n",
       "      <th>DX</th>\n",
       "      <th>AGE</th>\n",
       "      <th>MONTH</th>\n",
       "      <th>SEX</th>\n",
       "      <th></th>\n",
       "      <th></th>\n",
       "      <th></th>\n",
       "      <th></th>\n",
       "      <th></th>\n",
       "      <th></th>\n",
       "      <th></th>\n",
       "      <th></th>\n",
       "      <th></th>\n",
       "      <th></th>\n",
       "      <th></th>\n",
       "      <th></th>\n",
       "      <th></th>\n",
       "      <th></th>\n",
       "      <th></th>\n",
       "      <th></th>\n",
       "      <th></th>\n",
       "      <th></th>\n",
       "      <th></th>\n",
       "      <th></th>\n",
       "      <th></th>\n",
       "      <th></th>\n",
       "      <th></th>\n",
       "    </tr>\n",
       "  </thead>\n",
       "  <tbody>\n",
       "    <tr>\n",
       "      <th>c_0196</th>\n",
       "      <th>43.0</th>\n",
       "      <th>4</th>\n",
       "      <th>0</th>\n",
       "      <td>0</td>\n",
       "      <td>0</td>\n",
       "      <td>1</td>\n",
       "      <td>1</td>\n",
       "      <td>1</td>\n",
       "      <td>0</td>\n",
       "      <td>1</td>\n",
       "      <td>1</td>\n",
       "      <td>0</td>\n",
       "      <td>1</td>\n",
       "      <td>1</td>\n",
       "      <td>1</td>\n",
       "      <td>0</td>\n",
       "      <td>0</td>\n",
       "      <td>0</td>\n",
       "      <td>0</td>\n",
       "      <td>0</td>\n",
       "      <td>0</td>\n",
       "      <td>1</td>\n",
       "      <td>0</td>\n",
       "      <td>0</td>\n",
       "      <td>1</td>\n",
       "      <td>1</td>\n",
       "    </tr>\n",
       "    <tr>\n",
       "      <th>c_0497</th>\n",
       "      <th>14.0</th>\n",
       "      <th>1</th>\n",
       "      <th>1</th>\n",
       "      <td>0</td>\n",
       "      <td>0</td>\n",
       "      <td>0</td>\n",
       "      <td>0</td>\n",
       "      <td>0</td>\n",
       "      <td>0</td>\n",
       "      <td>0</td>\n",
       "      <td>0</td>\n",
       "      <td>0</td>\n",
       "      <td>0</td>\n",
       "      <td>0</td>\n",
       "      <td>0</td>\n",
       "      <td>1</td>\n",
       "      <td>0</td>\n",
       "      <td>0</td>\n",
       "      <td>0</td>\n",
       "      <td>0</td>\n",
       "      <td>0</td>\n",
       "      <td>0</td>\n",
       "      <td>0</td>\n",
       "      <td>0</td>\n",
       "      <td>0</td>\n",
       "      <td>0</td>\n",
       "    </tr>\n",
       "  </tbody>\n",
       "</table>\n",
       "</div>"
      ],
      "text/plain": [
       "                       s_0002  s_0022  s_0084  s_0136  s_0180  s_0242  s_0278  s_0346  s_0363  s_0400  s_0445  s_0478  s_0496  s_0542  s_0553  s_0701  s_0826  s_0837  s_0864  s_1266  s_1542  s_2282  s_2739\n",
       "DX     AGE  MONTH SEX                                                                                                                                                                                        \n",
       "c_0196 43.0 4     0         0       0       1       1       1       0       1       1       0       1       1       1       0       0       0       0       0       0       1       0       0       1       1\n",
       "c_0497 14.0 1     1         0       0       0       0       0       0       0       0       0       0       0       0       1       0       0       0       0       0       0       0       0       0       0"
      ]
     },
     "execution_count": 240,
     "metadata": {},
     "output_type": "execute_result"
    }
   ],
   "source": [
    "present_df"
   ]
  },
  {
   "cell_type": "markdown",
   "metadata": {},
   "source": [
    "`present_df`: each column indicates whether symptom explicitly present."
   ]
  },
  {
   "cell_type": "code",
   "execution_count": 270,
   "metadata": {},
   "outputs": [],
   "source": [
    "pres_and_abs_df = present_df.join(absent_df, lsuffix=\"__present\", rsuffix=\"__absent\")"
   ]
  },
  {
   "cell_type": "markdown",
   "metadata": {},
   "source": [
    "### Iterate through and create new DataFrame"
   ]
  },
  {
   "cell_type": "markdown",
   "metadata": {},
   "source": [
    "For each column, loook up and create new vector (`not_checked`, `checked_and_present`, `checked_and_absent`, `checked_and_present_and_absent`) "
   ]
  },
  {
   "cell_type": "code",
   "execution_count": 271,
   "metadata": {},
   "outputs": [],
   "source": [
    "possibilities = ['not_checked', 'checked_and_present', 'checked_and_absent', 'checked_and_present_and_absent']"
   ]
  },
  {
   "cell_type": "code",
   "execution_count": 272,
   "metadata": {},
   "outputs": [],
   "source": [
    "all_possible_symptoms_and_possibilites = [\"{}__{}\".format(symptom, status)  for (symptom,  status) in itertools.product(binarizer.classes_, possibilities)]"
   ]
  },
  {
   "cell_type": "markdown",
   "metadata": {},
   "source": [
    "Create placeholder"
   ]
  },
  {
   "cell_type": "code",
   "execution_count": 273,
   "metadata": {},
   "outputs": [],
   "source": [
    "indicator_df = pd.DataFrame(columns=all_possible_symptoms_and_possibilites, index=smpl.index)"
   ]
  },
  {
   "cell_type": "code",
   "execution_count": 274,
   "metadata": {},
   "outputs": [
    {
     "data": {
      "application/vnd.jupyter.widget-view+json": {
       "model_id": "c29b4bbf9cf94e35aaa77a5619fbdc6c",
       "version_major": 2,
       "version_minor": 0
      },
      "text/plain": [
       "HBox(children=(IntProgress(value=1, bar_style='info', max=1), HTML(value='')))"
      ]
     },
     "metadata": {},
     "output_type": "display_data"
    },
    {
     "name": "stdout",
     "output_type": "stream",
     "text": [
      "\n",
      "TqdmDeprecationWarning: Please use `tqdm.pandas(...)` instead of `tqdm_pandas(tqdm(...))`.\n"
     ]
    }
   ],
   "source": [
    "tqdm.tqdm_pandas(tqdm.tqdm_notebook())"
   ]
  },
  {
   "cell_type": "markdown",
   "metadata": {},
   "source": [
    "| `absentA` | `presentA` | *state*|\n",
    "|---|---|---|\n",
    "| 0| 0 | `not_checked` |\n",
    "| 0 |1 | `checked_and_present` |\n",
    "|1  | 0 | `checked_and_absent` |\n",
    "| 1 | 1 | `checked_and_present_and_absent`|"
   ]
  },
  {
   "cell_type": "code",
   "execution_count": 314,
   "metadata": {},
   "outputs": [],
   "source": [
    "def convert(row, symptoms):\n",
    "    \"\"\"\n",
    "    Convert a row of a DataFrame containing colums with names `symtom`_present, `symptom`_absent for symptom in symptoms\n",
    "    to a row with ['`symtom`__not_checked', `symptom`__'checked_and_present', `symtom`__'checked_and_absent', `symtom__'checked_and_present_and_absent']. \n",
    "    \n",
    "    e.g. \n",
    "    \n",
    "    s_0002__present    0\n",
    "    s_0002__absent     1\n",
    "    \n",
    "    -> \n",
    "\n",
    "    s_0002__not_checked  0\n",
    "    s_0002__checked_and_present 0 \n",
    "    s_0002__checked_and_absent 1 \n",
    "    s_0002__checked_and_present_and_absent 0\n",
    "    \n",
    "    \"\"\"\n",
    "    \n",
    "    result_series = pd.Series(data=[0]*len(all_possible_symptoms_and_possibilites), index=all_possible_symptoms_and_possibilites)        \n",
    "    \n",
    "    for symptom in symptoms:\n",
    "        try:\n",
    "            absent = row[symptom + \"__absent\"]\n",
    "            present = row[symptom + \"__present\"]\n",
    "        except KeyError:\n",
    "            sys.stderr.write(\"Warning: symptom {} not found\".format(symptom))\n",
    "            continue\n",
    "\n",
    "        if absent == 0 and present == 0:\n",
    "            result_series[\"{}__not_checked\".format(symptom)] = 1\n",
    "        elif absent == 0 and present == 1:\n",
    "            result_series[\"{}__checked_and_present\".format(symptom)] = 1\n",
    "        elif absent == 1 and present == 0:\n",
    "            result_series[\"{}__checked_and_absent\".format(symptom)] = 1\n",
    "        elif absent == 1 and present == 1:\n",
    "            result_series[\"{}__checked_and_present_and_absent\".format(symptom)] = 1\n",
    "        else:\n",
    "            raise ValueError(\"Some issue with encoding; symptom = {}\".format(symptom))    \n",
    "    return result_series"
   ]
  },
  {
   "cell_type": "markdown",
   "metadata": {},
   "source": [
    "#### Test"
   ]
  },
  {
   "cell_type": "code",
   "execution_count": 315,
   "metadata": {},
   "outputs": [
    {
     "data": {
      "text/plain": [
       "s_0002__present    0\n",
       "s_0002__absent     1\n",
       "Name: (c_0497, 14.0, 1, 1), dtype: int64"
      ]
     },
     "execution_count": 315,
     "metadata": {},
     "output_type": "execute_result"
    }
   ],
   "source": [
    "pres_and_abs_df.filter(like='s_0002').iloc[1,:]"
   ]
  },
  {
   "cell_type": "code",
   "execution_count": 317,
   "metadata": {},
   "outputs": [
    {
     "data": {
      "text/plain": [
       "array(['s_0002', 's_0022', 's_0084', 's_0136', 's_0180', 's_0242',\n",
       "       's_0278', 's_0346', 's_0363', 's_0400', 's_0445', 's_0478',\n",
       "       's_0496', 's_0542', 's_0553', 's_0701', 's_0826', 's_0837',\n",
       "       's_0864', 's_1266', 's_1542', 's_2282', 's_2739'], dtype=object)"
      ]
     },
     "execution_count": 317,
     "metadata": {},
     "output_type": "execute_result"
    }
   ],
   "source": [
    "binarizer.classes_[]"
   ]
  },
  {
   "cell_type": "code",
   "execution_count": 319,
   "metadata": {},
   "outputs": [
    {
     "data": {
      "text/plain": [
       "s_0002__not_checked                       0\n",
       "s_0002__checked_and_present               0\n",
       "s_0002__checked_and_absent                1\n",
       "s_0002__checked_and_present_and_absent    0\n",
       "s_0022__not_checked                       0\n",
       "s_0022__checked_and_present               0\n",
       "s_0022__checked_and_absent                0\n",
       "s_0022__checked_and_present_and_absent    0\n",
       "s_0084__not_checked                       0\n",
       "s_0084__checked_and_present               0\n",
       "s_0084__checked_and_absent                0\n",
       "s_0084__checked_and_present_and_absent    0\n",
       "s_0136__not_checked                       0\n",
       "s_0136__checked_and_present               0\n",
       "s_0136__checked_and_absent                0\n",
       "s_0136__checked_and_present_and_absent    0\n",
       "s_0180__not_checked                       0\n",
       "s_0180__checked_and_present               0\n",
       "s_0180__checked_and_absent                0\n",
       "s_0180__checked_and_present_and_absent    0\n",
       "s_0242__not_checked                       0\n",
       "s_0242__checked_and_present               0\n",
       "s_0242__checked_and_absent                0\n",
       "s_0242__checked_and_present_and_absent    0\n",
       "s_0278__not_checked                       0\n",
       "s_0278__checked_and_present               0\n",
       "s_0278__checked_and_absent                0\n",
       "s_0278__checked_and_present_and_absent    0\n",
       "s_0346__not_checked                       0\n",
       "s_0346__checked_and_present               0\n",
       "s_0346__checked_and_absent                0\n",
       "s_0346__checked_and_present_and_absent    0\n",
       "s_0363__not_checked                       0\n",
       "s_0363__checked_and_present               0\n",
       "s_0363__checked_and_absent                0\n",
       "s_0363__checked_and_present_and_absent    0\n",
       "s_0400__not_checked                       0\n",
       "s_0400__checked_and_present               0\n",
       "s_0400__checked_and_absent                0\n",
       "s_0400__checked_and_present_and_absent    0\n",
       "s_0445__not_checked                       0\n",
       "s_0445__checked_and_present               0\n",
       "s_0445__checked_and_absent                0\n",
       "s_0445__checked_and_present_and_absent    0\n",
       "s_0478__not_checked                       0\n",
       "s_0478__checked_and_present               0\n",
       "s_0478__checked_and_absent                0\n",
       "s_0478__checked_and_present_and_absent    0\n",
       "s_0496__not_checked                       0\n",
       "s_0496__checked_and_present               0\n",
       "s_0496__checked_and_absent                0\n",
       "s_0496__checked_and_present_and_absent    0\n",
       "s_0542__not_checked                       0\n",
       "s_0542__checked_and_present               0\n",
       "s_0542__checked_and_absent                0\n",
       "s_0542__checked_and_present_and_absent    0\n",
       "s_0553__not_checked                       0\n",
       "s_0553__checked_and_present               0\n",
       "s_0553__checked_and_absent                0\n",
       "s_0553__checked_and_present_and_absent    0\n",
       "s_0701__not_checked                       0\n",
       "s_0701__checked_and_present               0\n",
       "s_0701__checked_and_absent                0\n",
       "s_0701__checked_and_present_and_absent    0\n",
       "s_0826__not_checked                       0\n",
       "s_0826__checked_and_present               0\n",
       "s_0826__checked_and_absent                0\n",
       "s_0826__checked_and_present_and_absent    0\n",
       "s_0837__not_checked                       0\n",
       "s_0837__checked_and_present               0\n",
       "s_0837__checked_and_absent                0\n",
       "s_0837__checked_and_present_and_absent    0\n",
       "s_0864__not_checked                       0\n",
       "s_0864__checked_and_present               0\n",
       "s_0864__checked_and_absent                0\n",
       "s_0864__checked_and_present_and_absent    0\n",
       "s_1266__not_checked                       0\n",
       "s_1266__checked_and_present               0\n",
       "s_1266__checked_and_absent                0\n",
       "s_1266__checked_and_present_and_absent    0\n",
       "s_1542__not_checked                       0\n",
       "s_1542__checked_and_present               0\n",
       "s_1542__checked_and_absent                0\n",
       "s_1542__checked_and_present_and_absent    0\n",
       "s_2282__not_checked                       0\n",
       "s_2282__checked_and_present               0\n",
       "s_2282__checked_and_absent                0\n",
       "s_2282__checked_and_present_and_absent    0\n",
       "s_2739__not_checked                       0\n",
       "s_2739__checked_and_present               0\n",
       "s_2739__checked_and_absent                0\n",
       "s_2739__checked_and_present_and_absent    0\n",
       "dtype: int64"
      ]
     },
     "execution_count": 319,
     "metadata": {},
     "output_type": "execute_result"
    }
   ],
   "source": [
    "convert(pres_and_abs_df.filter(like='s_0002').iloc[1,:], symptoms=['s_0002'])"
   ]
  },
  {
   "cell_type": "code",
   "execution_count": null,
   "metadata": {},
   "outputs": [],
   "source": []
  }
 ],
 "metadata": {
  "kernelspec": {
   "display_name": "Python 3",
   "language": "python",
   "name": "python3"
  },
  "language_info": {
   "codemirror_mode": {
    "name": "ipython",
    "version": 3
   },
   "file_extension": ".py",
   "mimetype": "text/x-python",
   "name": "python",
   "nbconvert_exporter": "python",
   "pygments_lexer": "ipython3",
   "version": "3.6.2"
  }
 },
 "nbformat": 4,
 "nbformat_minor": 2
}
